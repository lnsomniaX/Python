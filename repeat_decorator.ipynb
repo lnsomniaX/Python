{
 "cells": [
  {
   "cell_type": "code",
   "execution_count": 1,
   "id": "d5167d4a",
   "metadata": {},
   "outputs": [
    {
     "name": "stdout",
     "output_type": "stream",
     "text": [
      "5\n",
      "4\n"
     ]
    }
   ],
   "source": [
    "def repeat(n):  # создает декоратор\n",
    "    def my_decorator(func):  # cам декоратор. Декорирует функцию\n",
    "        def wrapper(x):  # обертка декорируемой функции\n",
    "            if n != 0:\n",
    "                for i in range(n):\n",
    "                    result = func(x)  # применяем декорируемую функцию на каждом i-том шаге\n",
    "                    x = result  # запоминаем результат каждого i-того шага\n",
    "            else:\n",
    "                result = x\n",
    "            return result  # возврщает результат работы декорируемой функции\n",
    "\n",
    "        return wrapper  # возвращает обернутую функцию\n",
    "\n",
    "    return my_decorator  # возвращает декоратор\n",
    "\n",
    "\n",
    "@repeat(2)\n",
    "def plus_1(x):\n",
    "    return x + 1\n",
    "\n",
    "\n",
    "@repeat(0)\n",
    "def mul_2(x):\n",
    "    return x * 2\n",
    "\n",
    "\n",
    "print(plus_1(3))  # должно выдать 5\n",
    "print(mul_2(4))  # должно выдать 4"
   ]
  }
 ],
 "metadata": {
  "kernelspec": {
   "display_name": "Python 3 (ipykernel)",
   "language": "python",
   "name": "python3"
  },
  "language_info": {
   "codemirror_mode": {
    "name": "ipython",
    "version": 3
   },
   "file_extension": ".py",
   "mimetype": "text/x-python",
   "name": "python",
   "nbconvert_exporter": "python",
   "pygments_lexer": "ipython3",
   "version": "3.9.7"
  }
 },
 "nbformat": 4,
 "nbformat_minor": 5
}
