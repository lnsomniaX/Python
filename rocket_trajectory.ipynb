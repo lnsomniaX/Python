{
 "cells": [
  {
   "cell_type": "code",
   "execution_count": 45,
   "id": "36ac9ed5",
   "metadata": {},
   "outputs": [
    {
     "name": "stdout",
     "output_type": "stream",
     "text": [
      "введите в строчку через пробел: значение скорости истечения газов (м/c), массу ракеты без топлива(кг), массу топлива(кг) и количество топлива сгораемого в единицу времени(кг/с) 600 20 120 4\n"
     ]
    },
    {
     "data": {
      "image/png": "[encoded data removed]",
      "text/plain": [
       "<Figure size 432x288 with 1 Axes>"
      ]
     },
     "metadata": {
      "needs_background": "light"
     },
     "output_type": "display_data"
    }
   ],
   "source": [
    "import math\n",
    "\n",
    "MODEL_G = 9.81\n",
    "MODEL_DT = 0.001\n",
    "\n",
    "class Rocket:\n",
    "    def __init__(self, x, y, vx, vy, v, m1, m2, dm):\n",
    "        \"\"\"\n",
    "        Создать ракету.\n",
    "\n",
    "        Пареметры:\n",
    "        ----------\n",
    "        x: float\n",
    "            горизонтальная координата\n",
    "        y: float\n",
    "            вертикальная координата\n",
    "        vx: float\n",
    "            горизонтальная начальная скорость\n",
    "        vy: float\n",
    "            вертикальная начальная скорость\n",
    "        v: float\n",
    "            относительная скорость истечения газов\n",
    "        m1: float\n",
    "            масса ракеты без топлива\n",
    "        m2: float\n",
    "            масса топлива\n",
    "        dm: float\n",
    "            количество топлива сгораемого в секунду\n",
    "        \"\"\"\n",
    "        self.v = v\n",
    "        self.x = x\n",
    "        self.y = y\n",
    "        self.vx = vx\n",
    "        self.vy = vy\n",
    "        self.m1 = m1\n",
    "        self.m2 = m2\n",
    "        self.dm = dm\n",
    "\n",
    "        self.trajectory_x = []\n",
    "        self.trajectory_y = []\n",
    "\n",
    "    def advance(self):\n",
    "        self.trajectory_x.append(self.x)\n",
    "        self.trajectory_y.append(self.y)\n",
    "        self.x += self.vx * MODEL_DT\n",
    "        self.y += self.vy * MODEL_DT\n",
    "\n",
    "        if self.m2 >= 0:\n",
    "            self.m2 = self.m2 - MODEL_DT * self.dm\n",
    "            self.vx += MODEL_DT * (F * math.cos(math.atan(self.vy / self.vx)) / (self.m1 + self.m2))\n",
    "            self.vy += MODEL_DT * ((F * math.cos(math.atan(self.vy / self.vx)) - MODEL_G) / (self.m1 + self.m2))\n",
    "        else:\n",
    "            self.vx = self.vx\n",
    "            self.vy = self.vy - MODEL_G * MODEL_DT\n",
    "\n",
    "\n",
    "import numpy as np\n",
    "\n",
    "v, m1, m2, dm = (int(i) for i in input(\"введите в строчку через пробел: значение скорости истечения газов (м/c),\"\n",
    "                      \" массу ракеты без топлива(кг),\"\n",
    "                      \" массу топлива(кг) и\"\n",
    "                      \" количество топлива сгораемого в единицу времени(кг/с) \").split())\n",
    "\n",
    "F = v * dm  # реактивная сила\n",
    "t = m2 / dm  # время полета под действием реактивной силы\n",
    "t = 4 * t  # домножим на четыре, чтобы на графике было видно, как летит ракета после сгорания всего топлива\n",
    "\n",
    "r = Rocket(0, 0, 10, 10, v, m1, m2, dm)\n",
    "\n",
    "bodies = [r]\n",
    "# Дальше мы уже не будем думать, кто тут ёжик, кто ракета, а кто котлета —\n",
    "# благодаря возможностям ООП будем просто работать со списком тел\n",
    "\n",
    "for t in np.arange(0, t, MODEL_DT):  # для всех временных отрезков\n",
    "    for b in bodies:  # для всех тел\n",
    "        r.advance()  # выполним шаг\n",
    "from matplotlib import pyplot as pp\n",
    "\n",
    "pp.plot(b.trajectory_x, b.trajectory_y, label='ракета' )\n",
    "pp.legend(fontsize=8,\n",
    "           ncol=2,\n",
    "           facecolor='#f8f8ff',\n",
    "           edgecolor='black',\n",
    "           title_fontsize='8')\n",
    "pp.xlabel('X, м', fontsize=15) \n",
    "pp.ylabel('Y, м', fontsize=15) \n",
    "pp.title('траектория полета')\n",
    "pp.show()\n"
   ]
  },
  {
   "cell_type": "code",
   "execution_count": null,
   "id": "9c55312e",
   "metadata": {},
   "outputs": [],
   "source": []
  }
 ],
 "metadata": {
  "kernelspec": {
   "display_name": "Python 3 (ipykernel)",
   "language": "python",
   "name": "python3"
  },
  "language_info": {
   "codemirror_mode": {
    "name": "ipython",
    "version": 3
   },
   "file_extension": ".py",
   "mimetype": "text/x-python",
   "name": "python",
   "nbconvert_exporter": "python",
   "pygments_lexer": "ipython3",
   "version": "3.9.7"
  }
 },
 "nbformat": 4,
 "nbformat_minor": 5
}
