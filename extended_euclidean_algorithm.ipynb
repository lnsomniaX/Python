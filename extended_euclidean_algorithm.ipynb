{
 "cells": [
  {
   "cell_type": "code",
   "execution_count": 23,
   "id": "b54c9141",
   "metadata": {},
   "outputs": [
    {
     "name": "stdout",
     "output_type": "stream",
     "text": [
      "Введите 1-е число: 122234\n",
      "Введите 2-е число: 8666\n",
      "НОД(a, b) =  14\n",
      "14 = 122234*-2821 + 8666*200\n"
     ]
    }
   ],
   "source": [
    "a = abs(int(input('Введите 1-е число: ')))\n",
    "b = abs(int(input('Введите 2-е число: ')))\n",
    "\n",
    "w = 1\n",
    "w0 = 0\n",
    "z = 0\n",
    "z0 = 1\n",
    "\n",
    "if a < b:\n",
    "    c = a\n",
    "    a = b\n",
    "    b = c\n",
    "    \n",
    "    c = w\n",
    "    d = w0\n",
    "    w = z\n",
    "    w0 = z0\n",
    "    z0 = d\n",
    "    z = c\n",
    "    \n",
    "r = a\n",
    "r0 = b\n",
    "\n",
    "while r0 > 0:\n",
    "    q = r//r0\n",
    "    r1 = r - q*r0\n",
    "    r = r0\n",
    "    r0 = r1\n",
    "    \n",
    "    z1 = z - q*z0\n",
    "    z = z0\n",
    "    z0 = z1\n",
    "    \n",
    "    w1 = w - q*w0\n",
    "    w = w0\n",
    "    w0 = w1\n",
    "\n",
    "print('НОД(a, b) = ', r)\n",
    "d = r\n",
    "print(f\"{d} = {a}*{z} + {b}*{w}\")\n"
   ]
  }
 ],
 "metadata": {
  "kernelspec": {
   "display_name": "Python 3 (ipykernel)",
   "language": "python",
   "name": "python3"
  },
  "language_info": {
   "codemirror_mode": {
    "name": "ipython",
    "version": 3
   },
   "file_extension": ".py",
   "mimetype": "text/x-python",
   "name": "python",
   "nbconvert_exporter": "python",
   "pygments_lexer": "ipython3",
   "version": "3.9.7"
  }
 },
 "nbformat": 4,
 "nbformat_minor": 5
}
