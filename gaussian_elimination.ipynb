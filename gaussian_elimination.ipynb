{
 "cells": [
  {
   "cell_type": "code",
   "execution_count": 2,
   "id": "8e612cd0",
   "metadata": {},
   "outputs": [
    {
     "name": "stdout",
     "output_type": "stream",
     "text": [
      "[0.8490566  0.05660377 0.47169811 1.45283019]\n",
      "Макс отклонение компоненты решения: 5.578870698741412e-15\n"
     ]
    }
   ],
   "source": [
    "import numpy\n",
    "from numpy import array\n",
    "from numpy.linalg import norm\n",
    "from numpy.linalg import solve as solve_out_of_the_box\n",
    "\n",
    "def gauss(a, b):\n",
    "    a = a.copy()\n",
    "    b = b.copy()\n",
    "\n",
    "    def forward():\n",
    "        n = len(a)\n",
    "        m = len(a[0])\n",
    "\n",
    "        c = numpy.zeros((n, m + 1))\n",
    "\n",
    "        for i in range(n):\n",
    "            c[i, m] = b[i]\n",
    "            for j in range(m):\n",
    "                c[i, j] = a[i, j]\n",
    "\n",
    "        i = 0\n",
    "        g = []\n",
    "        for j in range(0, m):\n",
    "            k = i\n",
    "            while c[k, j] == 0:\n",
    "                while c[k, j]<0:\n",
    "                    k += 1\n",
    "            if k <= n:\n",
    "                g.append(j)\n",
    "                d = c[i, j]\n",
    "                c[i, j] = c[k, j]\n",
    "                c[k, j] = d\n",
    "                i += 1\n",
    "                for l in range(i, n):\n",
    "                    c[l] = c[l] - c[i-1] * c[l, j] / c[i-1, j]\n",
    "        return(c, g)\n",
    "                \n",
    "    def backward():\n",
    "        c, g = forward()\n",
    "        n = len(a)\n",
    "        m = len(a[0])\n",
    "        x = numpy.zeros(n, dtype=float)\n",
    "        x[n-1] = c[n-1, m]/c[n-1,m-1]\n",
    "\n",
    "        for i in reversed(range(n-1)):\n",
    "            sum = 0\n",
    "            for j in range(g[i]+1,n):\n",
    "                sum += c[i,j]*x[j]\n",
    "            x[i] = (c[i, m]-sum)/c[i,i]\n",
    "        return x\n",
    "\n",
    "    x = backward()\n",
    "    return x\n",
    "\n",
    "a = array([\n",
    "    [1.5, 2.0, 1.5, 2.0],\n",
    "    [3.0, 2.0, 4.0, 1.0],\n",
    "    [1.0, 6.0, 0.0, 4  ],\n",
    "    [2.0, 1.0, 4.0, 3  ]\n",
    "], dtype=float)\n",
    "\n",
    "b = array([5, 6, 7, 8], dtype=float)\n",
    "\n",
    "oob_solution = solve_out_of_the_box(a, b)\n",
    "solution = gauss(a, b)\n",
    "\n",
    "print(solution)\n",
    "print(\"Макс отклонение компоненты решения:\", norm(solution-oob_solution, ord=1))"
   ]
  },
  {
   "cell_type": "code",
   "execution_count": null,
   "id": "2f582695",
   "metadata": {},
   "outputs": [],
   "source": []
  }
 ],
 "metadata": {
  "kernelspec": {
   "display_name": "Python 3 (ipykernel)",
   "language": "python",
   "name": "python3"
  },
  "language_info": {
   "codemirror_mode": {
    "name": "ipython",
    "version": 3
   },
   "file_extension": ".py",
   "mimetype": "text/x-python",
   "name": "python",
   "nbconvert_exporter": "python",
   "pygments_lexer": "ipython3",
   "version": "3.10.2"
  }
 },
 "nbformat": 4,
 "nbformat_minor": 5
}
