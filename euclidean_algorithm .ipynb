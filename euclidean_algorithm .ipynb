{
 "cells": [
  {
   "cell_type": "code",
   "execution_count": 57,
   "metadata": {},
   "outputs": [
    {
     "name": "stdout",
     "output_type": "stream",
     "text": [
      "Введите 1-е число: -2344880\n",
      "Введите 2-е число: 168848\n",
      "НОД(a,b) =  16\n"
     ]
    }
   ],
   "source": [
    "a = abs(int(input('Введите 1-е число: ')))\n",
    "b = abs(int(input('Введите 2-е число: ')))\n",
    "if a < b:\n",
    "    c = a\n",
    "    a = b\n",
    "    b = c\n",
    "\n",
    "while b > 0:\n",
    "    q = a//b\n",
    "    r = a - q*b\n",
    "    a = b\n",
    "    b = r\n",
    "\n",
    "print('НОД(a,b) = ', a)\n"
   ]
  }
 ],
 "metadata": {
  "kernelspec": {
   "display_name": "Python 3 (ipykernel)",
   "language": "python",
   "name": "python3"
  },
  "language_info": {
   "codemirror_mode": {
    "name": "ipython",
    "version": 3
   },
   "file_extension": ".py",
   "mimetype": "text/x-python",
   "name": "python",
   "nbconvert_exporter": "python",
   "pygments_lexer": "ipython3",
   "version": "3.9.7"
  }
 },
 "nbformat": 4,
 "nbformat_minor": 4
}
