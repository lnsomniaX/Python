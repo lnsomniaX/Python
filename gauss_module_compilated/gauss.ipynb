{
 "cells": [
  {
   "cell_type": "code",
   "execution_count": 1,
   "metadata": {
    "pycharm": {
     "name": "#%%\n"
    }
   },
   "outputs": [
    {
     "name": "stdout",
     "output_type": "stream",
     "text": [
      "gauss_python was imported\n",
      "67.2 µs ± 1.48 µs per loop (mean ± std. dev. of 7 runs, 10,000 loops each)\n",
      "63.4 µs ± 1.19 µs per loop (mean ± std. dev. of 7 runs, 10,000 loops each)\n"
     ]
    }
   ],
   "source": [
    "import numpy\n",
    "from __future__ import annotations\n",
    "from numba import jit, prange\n",
    "from numpy import array\n",
    "from numpy.linalg import norm\n",
    "from numpy.linalg import solve as solve_out_of_the_box\n",
    "import gauss_python\n",
    "import gauss_cython\n",
    "\n",
    "a = array([\n",
    "    [1.5, 2.0, 1.5, 2.0],\n",
    "    [3.0, 2.0, 4.0, 1.0],\n",
    "    [1.0, 6.0, 0.0, 4  ],\n",
    "    [2.0, 1.0, 4.0, 3  ]\n",
    "], dtype=float)\n",
    "\n",
    "b = array([5, 6, 7, 8], dtype=float)\n",
    "\n",
    "\n",
    "%timeit gauss_python.gauss(a ,b)\n",
    "%timeit gauss_cython.gauss(a ,b)"
   ]
  }
 ],
 "metadata": {
  "kernelspec": {
   "display_name": "Python 3 (ipykernel)",
   "language": "python",
   "name": "python3"
  },
  "language_info": {
   "codemirror_mode": {
    "name": "ipython",
    "version": 3
   },
   "file_extension": ".py",
   "mimetype": "text/x-python",
   "name": "python",
   "nbconvert_exporter": "python",
   "pygments_lexer": "ipython3",
   "version": "3.10.4"
  }
 },
 "nbformat": 4,
 "nbformat_minor": 1
}