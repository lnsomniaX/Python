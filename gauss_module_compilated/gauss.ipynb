{
 "cells": [
  {
   "cell_type": "code",
   "execution_count": 18,
   "metadata": {
    "pycharm": {
     "name": "#%%\n"
    }
   },
   "outputs": [
    {
     "name": "stdout",
     "output_type": "stream",
     "text": [
      "[[768.821, 202.994, 445.812, 35.798, 444.516, 840.946, 185.008, 29.566, 735.287, 132.84], [492.78, 363.558, 508.613, 922.894, 525.225, 16.613, 404.489, 935.603, 382.668, 111.219], [964.7, 376.253, 270.819, 716.372, 284.682, 942.293, 434.684, 70.612, 301.555, 714.772], [198.358, 274.606, 286.082, 856.119, 772.146, 991.397, 942.633, 538.784, 648.333, 930.413], [311.096, 737.252, 533.983, 847.489, 760.742, 135.013, 980.08, 7.726, 76.276, 584.905], [398.341, 356.189, 683.429, 172.825, 583.348, 953.902, 28.555, 948.597, 282.102, 231.867], [506.199, 808.297, 505.336, 777.359, 469.422, 738.267, 602.687, 211.183, 790.926, 937.467], [137.577, 234.682, 350.565, 848.646, 762.855, 498.431, 147.138, 151.019, 35.466, 72.825], [575.012, 730.574, 164.924, 887.417, 6.543, 29.132, 414.413, 559.17, 734.973, 132.892], [196.325, 608.047, 144.026, 565.008, 151.589, 622.862, 857.951, 176.094, 639.48, 173.982]]\n",
      "383 µs ± 2.69 µs per loop (mean ± std. dev. of 20 runs, 10,000 loops each)\n",
      "362 µs ± 2.29 µs per loop (mean ± std. dev. of 20 runs, 10,000 loops each)\n"
     ]
    }
   ],
   "source": [
    "import numpy\n",
    "from __future__ import annotations\n",
    "from numba import jit, prange\n",
    "from numpy import array\n",
    "from numpy.linalg import norm\n",
    "from numpy.linalg import solve as solve_out_of_the_box\n",
    "import gauss_python\n",
    "import gauss_cython\n",
    "import math\n",
    "import random\n",
    "\n",
    "POP_SIZE = 10\n",
    "POINT_NUM = 1000\n",
    "GEN_NUM = 500\n",
    "\n",
    "initial_pop=[]\n",
    "for i in range(POP_SIZE):\n",
    "    a=[]\n",
    "    b=[]\n",
    "    c=[]\n",
    "    d=[]\n",
    "    e=[]\n",
    "    f=[]\n",
    "    g=[]\n",
    "    h=[]\n",
    "    i=[]\n",
    "    j=[]\n",
    "    A = float('%.3f'%(random.random()*POINT_NUM))\n",
    "    B = float('%.3f'%(random.random()*POINT_NUM))\n",
    "    C = float('%.3f'%(random.random()*POINT_NUM))\n",
    "    D = float('%.3f'%(random.random()*POINT_NUM))\n",
    "    E = float('%.3f'%(random.random()*POINT_NUM))\n",
    "    F = float('%.3f'%(random.random()*POINT_NUM))\n",
    "    G = float('%.3f'%(random.random()*POINT_NUM))\n",
    "    H = float('%.3f'%(random.random()*POINT_NUM))\n",
    "    I = float('%.3f'%(random.random()*POINT_NUM))\n",
    "    J = float('%.3f'%(random.random()*POINT_NUM))\n",
    "    a.append(A)\n",
    "    a.append(B)\n",
    "    a.append(C)\n",
    "    a.append(D)\n",
    "    a.append(E)\n",
    "    a.append(F)\n",
    "    a.append(G)\n",
    "    a.append(H)\n",
    "    a.append(I)\n",
    "    a.append(J)\n",
    "    initial_pop.append(a)\n",
    "\n",
    "a = array(initial_pop, dtype=float)\n",
    "\n",
    "b = array([5, 6, 7, 8, 12, 1, 32, 43, 54, 12], dtype=float)\n",
    "\n",
    "print(initial_pop)\n",
    "\n",
    "%timeit -r 20 -n 10000 gauss_python.gauss(a ,b)\n",
    "%timeit -r 20 -n 10000 gauss_cython.gauss(a ,b)"
   ]
  },
  {
   "cell_type": "code",
   "execution_count": null,
   "metadata": {},
   "outputs": [],
   "source": []
  }
 ],
 "metadata": {
  "kernelspec": {
   "display_name": "Python 3 (ipykernel)",
   "language": "python",
   "name": "python3"
  },
  "language_info": {
   "codemirror_mode": {
    "name": "ipython",
    "version": 3
   },
   "file_extension": ".py",
   "mimetype": "text/x-python",
   "name": "python",
   "nbconvert_exporter": "python",
   "pygments_lexer": "ipython3",
   "version": "3.10.4"
  }
 },
 "nbformat": 4,
 "nbformat_minor": 1
}