{
 "cells": [
  {
   "cell_type": "code",
   "execution_count": 26,
   "metadata": {
    "pycharm": {
     "name": "#%%\n"
    }
   },
   "outputs": [
    {
     "name": "stdout",
     "output_type": "stream",
     "text": [
      "399 µs ± 13.3 µs per loop (mean ± std. dev. of 7 runs, 100,000 loops each)\n",
      "378 µs ± 7.19 µs per loop (mean ± std. dev. of 7 runs, 100,000 loops each)\n"
     ]
    }
   ],
   "source": [
    "import numpy\n",
    "from __future__ import annotations\n",
    "from numba import jit, prange\n",
    "from numpy import array\n",
    "from numpy.linalg import norm\n",
    "from numpy.linalg import solve as solve_out_of_the_box\n",
    "import gauss_python\n",
    "import gauss_cython\n",
    "import math\n",
    "import random\n",
    "\n",
    "POP_SIZE = 10\n",
    "POINT_NUM = 1000\n",
    "GEN_NUM = 500\n",
    "\n",
    "initial_pop=[]\n",
    "for i in range(POP_SIZE):\n",
    "    a=[]\n",
    "    for j in range(POP_SIZE):\n",
    "        a.append(float('%.3f'%(random.random()*POINT_NUM)))\n",
    "    initial_pop.append(a)\n",
    "\n",
    "a = array(initial_pop, dtype=float)\n",
    "\n",
    "b = array([5, 6, 7, 8, 12, 1, 32, 43, 54, 12], dtype=float)\n",
    "\n",
    "%timeit -n 100000 gauss_python.gauss(a ,b)\n",
    "%timeit -n 100000 gauss_cython.gauss(a ,b)"
   ]
  },
  {
   "cell_type": "code",
   "execution_count": null,
   "metadata": {},
   "outputs": [],
   "source": []
  }
 ],
 "metadata": {
  "kernelspec": {
   "display_name": "Python 3 (ipykernel)",
   "language": "python",
   "name": "python3"
  },
  "language_info": {
   "codemirror_mode": {
    "name": "ipython",
    "version": 3
   },
   "file_extension": ".py",
   "mimetype": "text/x-python",
   "name": "python",
   "nbconvert_exporter": "python",
   "pygments_lexer": "ipython3",
   "version": "3.10.4"
  }
 },
 "nbformat": 4,
 "nbformat_minor": 1
}