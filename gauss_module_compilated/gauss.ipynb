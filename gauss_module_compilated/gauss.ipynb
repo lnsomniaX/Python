{
 "cells": [
  {
   "cell_type": "code",
   "execution_count": 15,
   "metadata": {
    "pycharm": {
     "name": "#%%\n"
    }
   },
   "outputs": [
    {
     "ename": "ValueError",
     "evalue": "invalid literal for int() with base 10: '531.818'",
     "output_type": "error",
     "traceback": [
      "\u001B[1;31m---------------------------------------------------------------------------\u001B[0m",
      "\u001B[1;31mValueError\u001B[0m                                Traceback (most recent call last)",
      "Input \u001B[1;32mIn [15]\u001B[0m, in \u001B[0;36m<cell line: 17>\u001B[1;34m()\u001B[0m\n\u001B[0;32m     17\u001B[0m \u001B[38;5;28;01mfor\u001B[39;00m i \u001B[38;5;129;01min\u001B[39;00m \u001B[38;5;28mrange\u001B[39m(POP_SIZE):\n\u001B[0;32m     18\u001B[0m     a\u001B[38;5;241m=\u001B[39m[]\n\u001B[1;32m---> 19\u001B[0m     A \u001B[38;5;241m=\u001B[39m \u001B[38;5;28;43mint\u001B[39;49m\u001B[43m(\u001B[49m\u001B[38;5;124;43m'\u001B[39;49m\u001B[38;5;132;43;01m%.3f\u001B[39;49;00m\u001B[38;5;124;43m'\u001B[39;49m\u001B[38;5;241;43m%\u001B[39;49m\u001B[43m(\u001B[49m\u001B[43mrandom\u001B[49m\u001B[38;5;241;43m.\u001B[39;49m\u001B[43mrandom\u001B[49m\u001B[43m(\u001B[49m\u001B[43m)\u001B[49m\u001B[38;5;241;43m*\u001B[39;49m\u001B[43mPOINT_NUM\u001B[49m\u001B[43m)\u001B[49m\u001B[43m)\u001B[49m\n\u001B[0;32m     20\u001B[0m     A \u001B[38;5;241m=\u001B[39m \u001B[38;5;28mint\u001B[39m(\u001B[38;5;124m'\u001B[39m\u001B[38;5;132;01m%.3f\u001B[39;00m\u001B[38;5;124m'\u001B[39m\u001B[38;5;241m%\u001B[39m(random\u001B[38;5;241m.\u001B[39mrandom()\u001B[38;5;241m*\u001B[39mPOINT_NUM))\n\u001B[0;32m     21\u001B[0m     A \u001B[38;5;241m=\u001B[39m \u001B[38;5;28mint\u001B[39m(\u001B[38;5;124m'\u001B[39m\u001B[38;5;132;01m%.3f\u001B[39;00m\u001B[38;5;124m'\u001B[39m\u001B[38;5;241m%\u001B[39m(random\u001B[38;5;241m.\u001B[39mrandom()\u001B[38;5;241m*\u001B[39mPOINT_NUM))\n",
      "\u001B[1;31mValueError\u001B[0m: invalid literal for int() with base 10: '531.818'"
     ]
    }
   ],
   "source": [
    "import numpy\n",
    "from __future__ import annotations\n",
    "from numba import jit, prange\n",
    "from numpy import array\n",
    "from numpy.linalg import norm\n",
    "from numpy.linalg import solve as solve_out_of_the_box\n",
    "import gauss_python\n",
    "import gauss_cython\n",
    "import math\n",
    "import random\n",
    "\n",
    "POP_SIZE = 10\n",
    "POINT_NUM = 1000\n",
    "GEN_NUM = 500\n",
    "\n",
    "initial_pop=[]\n",
    "for i in range(POP_SIZE):\n",
    "    a=[]\n",
    "    b=[]\n",
    "    A = array('%.3f'%(random.random()*POINT_NUM))\n",
    "    B = array('%.3f'%(random.random()*POINT_NUM))\n",
    "    C = array('%.3f'%(random.random()*POINT_NUM))\n",
    "    D = array('%.3f'%(random.random()*POINT_NUM))\n",
    "    E = array('%.3f'%(random.random()*POINT_NUM))\n",
    "    F = array('%.3f'%(random.random()*POINT_NUM))\n",
    "    G = array('%.3f'%(random.random()*POINT_NUM))\n",
    "    H = array('%.3f'%(random.random()*POINT_NUM))\n",
    "    I = array('%.3f'%(random.random()*POINT_NUM))\n",
    "    J = array('%.3f'%(random.random()*POINT_NUM))\n",
    "    a.append(A)\n",
    "    a.append(B)\n",
    "    initial_pop.append(a)\n",
    "\n",
    "a = array([\n",
    "    [1.5, 2.0, 1.5, 2.0],\n",
    "    [3.0, 2.0, 4.0, 1.0],\n",
    "    [1.0, 6.0, 0.0, 4  ],\n",
    "    [2.0, 1.0, 4.0, 3  ]\n",
    "], dtype=float)\n",
    "\n",
    "b = array([5, 6, 7, 8], dtype=float)\n",
    "\n",
    "print(initial_pop)\n",
    "\n",
    "%timeit -r 20 -n 10000 gauss_python.gauss(a ,b)\n",
    "%timeit -r 20 -n 10000 gauss_cython.gauss(a ,b)"
   ]
  },
  {
   "cell_type": "code",
   "execution_count": null,
   "metadata": {},
   "outputs": [],
   "source": []
  }
 ],
 "metadata": {
  "kernelspec": {
   "display_name": "Python 3 (ipykernel)",
   "language": "python",
   "name": "python3"
  },
  "language_info": {
   "codemirror_mode": {
    "name": "ipython",
    "version": 3
   },
   "file_extension": ".py",
   "mimetype": "text/x-python",
   "name": "python",
   "nbconvert_exporter": "python",
   "pygments_lexer": "ipython3",
   "version": "3.10.4"
  }
 },
 "nbformat": 4,
 "nbformat_minor": 1
}